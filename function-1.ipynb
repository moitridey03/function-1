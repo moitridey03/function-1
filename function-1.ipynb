{
 "cells": [
  {
   "cell_type": "markdown",
   "id": "b31ceb5f-415c-47a0-9f61-1b1b5eac0853",
   "metadata": {},
   "source": [
    "Q1. Which keyword is used to create a function? Create a function to return a list of odd numbers in the\n",
    "range of 1 to 25."
   ]
  },
  {
   "cell_type": "markdown",
   "id": "c99f3be5-1650-4034-b6d5-1017ec7c2794",
   "metadata": {},
   "source": [
    "The keyword used to create a function in Python is def. Here is a Python function that returns a list of odd numbers in the range of 1 to 25:"
   ]
  },
  {
   "cell_type": "markdown",
   "id": "9c9ad384-eaa6-4d8f-8669-6572ff0d5edc",
   "metadata": {},
   "source": [
    "def odd_numbers():\n",
    "    odd_list = []\n",
    "    for num in range(1, 26):\n",
    "        if num % 2 != 0:\n",
    "            odd_list.append(num)\n",
    "    return odd_list\n",
    "\n",
    "# Example usage:\n",
    "print(odd_numbers())\n"
   ]
  },
  {
   "cell_type": "markdown",
   "id": "3ec09fb7-ce02-41bc-80f6-a51a22ffa180",
   "metadata": {},
   "source": [
    "This function iterates through the range of numbers from 1 to 25, checks if each number is odd using the modulus operator %, and appends the odd numbers to a list. Finally, it returns the list of odd numbers.\n",
    "\n",
    "\n",
    "\n",
    "\n"
   ]
  },
  {
   "cell_type": "markdown",
   "id": "e12b9cdc-cbca-42b3-bf2d-c622c595ddba",
   "metadata": {},
   "source": [
    "Q2. Why *args and **kwargs is used in some functions? Create a function each for *args and **kwargs to\n",
    "demonstrate their use."
   ]
  },
  {
   "cell_type": "markdown",
   "id": "52fa9f51-e2a4-4a5b-8eab-371f936791dc",
   "metadata": {},
   "source": [
    "The *args and **kwargs are commonly used in Python functions to handle a variable number of arguments and keyword arguments, respectively. They provide flexibility when defining functions that need to accept an arbitrary number of arguments or keyword arguments without explicitly specifying their names.\n",
    "\n",
    "Here's a brief explanation of each:\n",
    "\n",
    "*args: This syntax allows a function to accept any number of positional arguments. When *args is used in a function definition, it collects all the positional arguments into a tuple.\n",
    "\n",
    "**kwargs: This syntax allows a function to accept any number of keyword arguments. When **kwargs is used in a function definition, it collects all the keyword arguments into a dictionary.\n",
    "\n",
    "Below are examples of functions demonstrating the usage of *args and **kwargs:"
   ]
  },
  {
   "cell_type": "markdown",
   "id": "2891b30d-e25e-48b0-a618-3c22d25325b6",
   "metadata": {},
   "source": [
    "def sum_all(*args):\n",
    "    \"\"\"\n",
    "    Calculates the sum of all the positional arguments passed to the function.\n",
    "    \n",
    "    Parameters:\n",
    "    *args: A variable number of positional arguments.\n",
    "    \n",
    "    Returns:\n",
    "    int: The sum of all positional arguments.\n",
    "    \"\"\"\n",
    "    return sum(args)\n",
    "\n",
    "def print_kwargs(**kwargs):\n",
    "    \"\"\"\n",
    "    Prints all the keyword arguments passed to the function.\n",
    "    \n",
    "    Parameters:\n",
    "    **kwargs: A variable number of keyword arguments.\n",
    "    \"\"\"\n",
    "    for key, value in kwargs.items():\n",
    "        print(f\"{key}: {value}\")\n",
    "\n",
    "# Example usage of the functions\n",
    "print(sum_all(1, 2, 3, 4, 5))  # Output: 15\n",
    "\n",
    "print_kwargs(name=\"John\", age=30, city=\"New York\")\n",
    "# Output:\n",
    "# name: John\n",
    "# age: 30\n",
    "# city: New York\n"
   ]
  },
  {
   "cell_type": "markdown",
   "id": "0cf3a9e7-9009-400f-a155-b222ff3aec59",
   "metadata": {},
   "source": [
    "In the sum_all function, *args collects all the positional arguments passed to the function into a tuple, allowing the function to compute their sum. In the print_kwargs function, **kwargs collects all the keyword arguments passed to the function into a dictionary, allowing the function to print them out with their respective values. These examples illustrate how *args and **kwargs can be utilized to handle functions with variable numbers of arguments and keyword arguments."
   ]
  },
  {
   "cell_type": "markdown",
   "id": "2a70dede-2c9f-4a8e-8d28-02d19015671c",
   "metadata": {},
   "source": [
    "Q3. What is an iterator in python? Name the method used to initialise the iterator object and the method\n",
    "used for iteration. Use these methods to print the first five elements of the given list [2, 4, 6, 8, 10, 12, 14, 16,\n",
    "18, 20]."
   ]
  },
  {
   "cell_type": "markdown",
   "id": "bd2bd323-fd7b-4fad-9e9a-7ca0d89fead9",
   "metadata": {},
   "source": [
    "In Python, an iterator is an object that implements the iterator protocol, which consists of two methods: __iter__() and __next__().\n",
    "\n",
    "__iter__(): This method is used to initialize the iterator object. It returns the iterator object itself.\n",
    "\n",
    "__next__(): This method is used for iteration. It returns the next element in the sequence, and if there are no more elements, it raises a StopIteration exception.\n",
    "\n",
    "To print the first five elements of the given list [2, 4, 6, 8, 10, 12, 14, 16, 18, 20], we can follow these steps:\n",
    "\n",
    "Initialize the iterator object using the __iter__() method.\n",
    "Use a loop to iterate through the first five elements using the __next__() method.\n",
    "Here's how to implement it in Python:"
   ]
  },
  {
   "cell_type": "markdown",
   "id": "a38edf7d-b3a4-4019-8082-070c586044c6",
   "metadata": {},
   "source": [
    "# Given list\n",
    "my_list = [2, 4, 6, 8, 10, 12, 14, 16, 18, 20]\n",
    "\n",
    "# Initialize the iterator object\n",
    "my_iter = iter(my_list)\n",
    "\n",
    "# Iterate through the first five elements using __next__() method\n",
    "for _ in range(5):\n",
    "    print(next(my_iter))\n"
   ]
  },
  {
   "cell_type": "markdown",
   "id": "3dc5cd87-e136-4ddc-aac3-04c0594b6e77",
   "metadata": {},
   "source": [
    "Output:"
   ]
  },
  {
   "cell_type": "markdown",
   "id": "4380763f-3256-4dfe-8102-a818e2858c4d",
   "metadata": {},
   "source": [
    "2\n",
    "4\n",
    "6\n",
    "8\n",
    "10\n"
   ]
  },
  {
   "cell_type": "markdown",
   "id": "0eee7976-bc8f-4f71-afe9-c86ca0bacb57",
   "metadata": {},
   "source": [
    "This code initializes an iterator object my_iter for the given list and then iterates through the first five elements using the next() function, which internally calls the __next__() method. Each call to next(my_iter) returns the next element in the sequence until the fifth element is reached.\n",
    "\n",
    "\n",
    "\n",
    "\n",
    "\n"
   ]
  },
  {
   "cell_type": "markdown",
   "id": "9420d407-94ad-459b-9d3e-73e8c456806f",
   "metadata": {},
   "source": [
    "Q4. What is a generator function in python? Why yield keyword is used? Give an example of a generator\n",
    "function."
   ]
  },
  {
   "cell_type": "markdown",
   "id": "510b2d7e-3dae-478b-a583-bcba51b586ea",
   "metadata": {},
   "source": [
    "A generator function in Python is a special type of function that allows you to generate a sequence of values lazily, one at a time, rather than creating and storing the entire sequence in memory at once. This is particularly useful when dealing with large datasets or infinite sequences.\n",
    "\n",
    "The yield keyword is used within a generator function to temporarily suspend execution and yield a value to the caller. When the generator is called again, execution resumes from where it left off, allowing the function to produce the next value in the sequence.\n",
    "\n",
    "Here is an example of a generator function in Python:"
   ]
  },
  {
   "cell_type": "markdown",
   "id": "f3bc6348-85b7-4325-bfb6-2450cee69722",
   "metadata": {},
   "source": [
    "def count_up_to(n):\n",
    "    count = 1\n",
    "    while count <= n:\n",
    "        yield count\n",
    "        count += 1\n",
    "\n",
    "# Using the generator function\n",
    "counter = count_up_to(5)\n",
    "print(next(counter))  # Output: 1\n",
    "print(next(counter))  # Output: 2\n",
    "print(next(counter))  # Output: 3\n",
    "print(next(counter))  # Output: 4\n",
    "print(next(counter))  # Output: 5\n"
   ]
  },
  {
   "cell_type": "markdown",
   "id": "a2a4b77f-d537-4587-b515-44f939591d07",
   "metadata": {},
   "source": [
    "In this example, the count_up_to function generates numbers from 1 up to the given value n. Each time the next() function is called on the generator object returned by count_up_to, the function executes until it reaches the yield statement, at which point it yields the current value of count. Execution then pauses until the next call to next(), at which point it resumes execution from where it left off. This process continues until the loop condition count <= n is no longer met."
   ]
  },
  {
   "cell_type": "markdown",
   "id": "158ea306-1a59-4971-aabf-6700b11f1ed2",
   "metadata": {},
   "source": [
    "Q5. Create a generator function for prime numbers less than 1000. Use the next() method to print the\n",
    "first 20 prime numbers."
   ]
  },
  {
   "cell_type": "markdown",
   "id": "4ffe926c-e667-4cba-bf50-fcfae390d8a4",
   "metadata": {},
   "source": [
    "Below is a Python generator function that yields prime numbers less than 1000. The function generate_primes() generates prime numbers using the Sieve of Eratosthenes algorithm, which efficiently sieves out non-prime numbers. It yields prime numbers successively as they are generated. The next() method is then used to print the first 20 prime numbers:"
   ]
  },
  {
   "cell_type": "markdown",
   "id": "90dbf46e-7675-4564-b9bd-60e9b48d65bb",
   "metadata": {},
   "source": [
    "def generate_primes():\n",
    "    primes = []\n",
    "    num = 2\n",
    "    while num < 1000:\n",
    "        if all(num % p != 0 for p in primes):\n",
    "            primes.append(num)\n",
    "            yield num\n",
    "        num += 1\n",
    "\n",
    "# Using the generator to print the first 20 prime numbers\n",
    "prime_gen = generate_primes()\n",
    "for _ in range(20):\n",
    "    print(next(prime_gen))\n"
   ]
  },
  {
   "cell_type": "markdown",
   "id": "f57d50b8-d5fa-45c6-accd-94258e67c69f",
   "metadata": {},
   "source": [
    "This code will produce the first 20 prime numbers less than 1000 using a generator function and the next() method."
   ]
  },
  {
   "cell_type": "code",
   "execution_count": null,
   "id": "6e866f8e-c1d3-4bea-a9df-6d4f8eb24dbf",
   "metadata": {},
   "outputs": [],
   "source": []
  }
 ],
 "metadata": {
  "kernelspec": {
   "display_name": "Python 3 (ipykernel)",
   "language": "python",
   "name": "python3"
  },
  "language_info": {
   "codemirror_mode": {
    "name": "ipython",
    "version": 3
   },
   "file_extension": ".py",
   "mimetype": "text/x-python",
   "name": "python",
   "nbconvert_exporter": "python",
   "pygments_lexer": "ipython3",
   "version": "3.10.8"
  }
 },
 "nbformat": 4,
 "nbformat_minor": 5
}
